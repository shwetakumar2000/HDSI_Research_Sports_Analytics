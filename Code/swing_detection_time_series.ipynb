{
 "cells": [
  {
   "cell_type": "markdown",
   "metadata": {},
   "source": [
    "# Swing Detection Time Series Analysis\n",
    "\n",
    "\n",
    "Using Catapult wearable devices and shadow swinging (due to COVID-19 restrictions), we generated a dataset that includes forehand swings and backhand swings. This notebooks produces a K-means clustering analysis that can be used for swing detections, using both the standard and the 100hz Catapult datasets. Specifically, within the 100hz dataset, our goal is to identify the role of rotation and acceleration within the swing detection, and potentially apply this analysis to a time series analysis for swing detection. \n",
    "\n",
    "\n",
    "Author: Karthik Guruvayurappan "
   ]
  },
  {
   "cell_type": "code",
   "execution_count": 11,
   "metadata": {},
   "outputs": [],
   "source": [
    "# import packages for time series analysis\n",
    "import numpy as np\n",
    "import pandas as pd\n",
    "import matplotlib.pyplot as plt\n",
    "import seaborn as sns;\n",
    "sns.set_style('white')"
   ]
  },
  {
   "cell_type": "markdown",
   "metadata": {},
   "source": [
    "### Format Datasets from Catapult Wearables into Pandas DataFrames"
   ]
  },
  {
   "cell_type": "code",
   "execution_count": 30,
   "metadata": {},
   "outputs": [],
   "source": [
    "# import swing detection datasets from Catapult GPS devices\n",
    "swing_detection = pd.read_csv('../Datasets/karthik_swing_detection.csv')\n",
    "swing_detection_100hz = pd.read_csv('../Datasets/karthik_swing_detection_100hz.csv')"
   ]
  },
  {
   "cell_type": "code",
   "execution_count": 31,
   "metadata": {},
   "outputs": [
    {
     "data": {
      "text/html": [
       "<div>\n",
       "<style scoped>\n",
       "    .dataframe tbody tr th:only-of-type {\n",
       "        vertical-align: middle;\n",
       "    }\n",
       "\n",
       "    .dataframe tbody tr th {\n",
       "        vertical-align: top;\n",
       "    }\n",
       "\n",
       "    .dataframe thead th {\n",
       "        text-align: right;\n",
       "    }\n",
       "</style>\n",
       "<table border=\"1\" class=\"dataframe\">\n",
       "  <thead>\n",
       "    <tr style=\"text-align: right;\">\n",
       "      <th></th>\n",
       "      <th>Timestamp</th>\n",
       "      <th>Seconds</th>\n",
       "      <th>Velocity</th>\n",
       "      <th>Acceleration</th>\n",
       "      <th>Odometer</th>\n",
       "      <th>Latitude</th>\n",
       "      <th>Longitude</th>\n",
       "      <th>Heart Rate</th>\n",
       "      <th>Player Load</th>\n",
       "      <th>Positional Quality (%)</th>\n",
       "      <th>HDOP</th>\n",
       "      <th>#Sats</th>\n",
       "      <th>Unnamed: 12</th>\n",
       "    </tr>\n",
       "  </thead>\n",
       "  <tbody>\n",
       "    <tr>\n",
       "      <th>0</th>\n",
       "      <td>48:28.9</td>\n",
       "      <td>0.0</td>\n",
       "      <td>0.0</td>\n",
       "      <td>0.0</td>\n",
       "      <td>0.0</td>\n",
       "      <td>0.0</td>\n",
       "      <td>0.0</td>\n",
       "      <td>0</td>\n",
       "      <td>0.0</td>\n",
       "      <td>0.0</td>\n",
       "      <td>-1.0</td>\n",
       "      <td>0</td>\n",
       "      <td>NaN</td>\n",
       "    </tr>\n",
       "    <tr>\n",
       "      <th>1</th>\n",
       "      <td>48:29.0</td>\n",
       "      <td>0.1</td>\n",
       "      <td>0.0</td>\n",
       "      <td>0.0</td>\n",
       "      <td>0.0</td>\n",
       "      <td>0.0</td>\n",
       "      <td>0.0</td>\n",
       "      <td>0</td>\n",
       "      <td>0.0</td>\n",
       "      <td>0.0</td>\n",
       "      <td>-1.0</td>\n",
       "      <td>0</td>\n",
       "      <td>NaN</td>\n",
       "    </tr>\n",
       "    <tr>\n",
       "      <th>2</th>\n",
       "      <td>48:29.1</td>\n",
       "      <td>0.2</td>\n",
       "      <td>0.0</td>\n",
       "      <td>0.0</td>\n",
       "      <td>0.0</td>\n",
       "      <td>0.0</td>\n",
       "      <td>0.0</td>\n",
       "      <td>0</td>\n",
       "      <td>0.0</td>\n",
       "      <td>0.0</td>\n",
       "      <td>-1.0</td>\n",
       "      <td>0</td>\n",
       "      <td>NaN</td>\n",
       "    </tr>\n",
       "    <tr>\n",
       "      <th>3</th>\n",
       "      <td>48:29.2</td>\n",
       "      <td>0.3</td>\n",
       "      <td>0.0</td>\n",
       "      <td>0.0</td>\n",
       "      <td>0.0</td>\n",
       "      <td>0.0</td>\n",
       "      <td>0.0</td>\n",
       "      <td>0</td>\n",
       "      <td>0.0</td>\n",
       "      <td>0.0</td>\n",
       "      <td>-1.0</td>\n",
       "      <td>0</td>\n",
       "      <td>NaN</td>\n",
       "    </tr>\n",
       "    <tr>\n",
       "      <th>4</th>\n",
       "      <td>48:29.3</td>\n",
       "      <td>0.4</td>\n",
       "      <td>0.0</td>\n",
       "      <td>0.0</td>\n",
       "      <td>0.0</td>\n",
       "      <td>0.0</td>\n",
       "      <td>0.0</td>\n",
       "      <td>0</td>\n",
       "      <td>0.0</td>\n",
       "      <td>0.0</td>\n",
       "      <td>-1.0</td>\n",
       "      <td>0</td>\n",
       "      <td>NaN</td>\n",
       "    </tr>\n",
       "  </tbody>\n",
       "</table>\n",
       "</div>"
      ],
      "text/plain": [
       "  Timestamp  Seconds  Velocity  Acceleration  Odometer  Latitude  Longitude  \\\n",
       "0   48:28.9      0.0       0.0           0.0       0.0       0.0        0.0   \n",
       "1   48:29.0      0.1       0.0           0.0       0.0       0.0        0.0   \n",
       "2   48:29.1      0.2       0.0           0.0       0.0       0.0        0.0   \n",
       "3   48:29.2      0.3       0.0           0.0       0.0       0.0        0.0   \n",
       "4   48:29.3      0.4       0.0           0.0       0.0       0.0        0.0   \n",
       "\n",
       "   Heart Rate  Player Load  Positional Quality (%)  HDOP  #Sats  Unnamed: 12  \n",
       "0           0          0.0                     0.0  -1.0      0          NaN  \n",
       "1           0          0.0                     0.0  -1.0      0          NaN  \n",
       "2           0          0.0                     0.0  -1.0      0          NaN  \n",
       "3           0          0.0                     0.0  -1.0      0          NaN  \n",
       "4           0          0.0                     0.0  -1.0      0          NaN  "
      ]
     },
     "execution_count": 31,
     "metadata": {},
     "output_type": "execute_result"
    }
   ],
   "source": [
    "# view standard swing detection data\n",
    "swing_detection.head()"
   ]
  },
  {
   "cell_type": "code",
   "execution_count": 32,
   "metadata": {
    "scrolled": true
   },
   "outputs": [
    {
     "data": {
      "text/html": [
       "<div>\n",
       "<style scoped>\n",
       "    .dataframe tbody tr th:only-of-type {\n",
       "        vertical-align: middle;\n",
       "    }\n",
       "\n",
       "    .dataframe tbody tr th {\n",
       "        vertical-align: top;\n",
       "    }\n",
       "\n",
       "    .dataframe thead th {\n",
       "        text-align: right;\n",
       "    }\n",
       "</style>\n",
       "<table border=\"1\" class=\"dataframe\">\n",
       "  <thead>\n",
       "    <tr style=\"text-align: right;\">\n",
       "      <th></th>\n",
       "      <th>TimeStamp</th>\n",
       "      <th>Acceleration.forward</th>\n",
       "      <th>Acceleration.side</th>\n",
       "      <th>Acceleration.up</th>\n",
       "      <th>Rotation.roll</th>\n",
       "      <th>Rotation.pitch</th>\n",
       "      <th>Rotation.yaw</th>\n",
       "      <th>RawPlayerLoad</th>\n",
       "      <th>SmoothedPlayerLoad</th>\n",
       "      <th>imuAcceleration.forward</th>\n",
       "      <th>...</th>\n",
       "      <th>Longitude</th>\n",
       "      <th>Odometer</th>\n",
       "      <th>RawVelocity</th>\n",
       "      <th>SmoothedVelocity</th>\n",
       "      <th>GNSS.LPS.Acceleration</th>\n",
       "      <th>MetabolicPower</th>\n",
       "      <th>GNSS.Fix</th>\n",
       "      <th>GNSS.Strength</th>\n",
       "      <th>GNSS.HDOP</th>\n",
       "      <th>HeartRate</th>\n",
       "    </tr>\n",
       "  </thead>\n",
       "  <tbody>\n",
       "    <tr>\n",
       "      <th>0</th>\n",
       "      <td>00:00.0</td>\n",
       "      <td>-0.922020</td>\n",
       "      <td>-0.008228</td>\n",
       "      <td>0.257004</td>\n",
       "      <td>-12.688</td>\n",
       "      <td>-4.941</td>\n",
       "      <td>4.270</td>\n",
       "      <td>0.506348</td>\n",
       "      <td>0.097728</td>\n",
       "      <td>-0.917566</td>\n",
       "      <td>...</td>\n",
       "      <td>NaN</td>\n",
       "      <td>NaN</td>\n",
       "      <td>NaN</td>\n",
       "      <td>NaN</td>\n",
       "      <td>NaN</td>\n",
       "      <td>NaN</td>\n",
       "      <td>NaN</td>\n",
       "      <td>NaN</td>\n",
       "      <td>NaN</td>\n",
       "      <td>0</td>\n",
       "    </tr>\n",
       "    <tr>\n",
       "      <th>1</th>\n",
       "      <td>00:00.0</td>\n",
       "      <td>-0.927828</td>\n",
       "      <td>-0.007260</td>\n",
       "      <td>0.260876</td>\n",
       "      <td>-14.335</td>\n",
       "      <td>-5.063</td>\n",
       "      <td>4.758</td>\n",
       "      <td>0.241211</td>\n",
       "      <td>0.098716</td>\n",
       "      <td>-0.918521</td>\n",
       "      <td>...</td>\n",
       "      <td>NaN</td>\n",
       "      <td>NaN</td>\n",
       "      <td>NaN</td>\n",
       "      <td>NaN</td>\n",
       "      <td>NaN</td>\n",
       "      <td>NaN</td>\n",
       "      <td>NaN</td>\n",
       "      <td>NaN</td>\n",
       "      <td>NaN</td>\n",
       "      <td>0</td>\n",
       "    </tr>\n",
       "    <tr>\n",
       "      <th>2</th>\n",
       "      <td>00:00.0</td>\n",
       "      <td>-0.929280</td>\n",
       "      <td>-0.009680</td>\n",
       "      <td>0.265232</td>\n",
       "      <td>-15.372</td>\n",
       "      <td>-3.782</td>\n",
       "      <td>4.941</td>\n",
       "      <td>0.115234</td>\n",
       "      <td>0.099575</td>\n",
       "      <td>-0.914655</td>\n",
       "      <td>...</td>\n",
       "      <td>NaN</td>\n",
       "      <td>NaN</td>\n",
       "      <td>NaN</td>\n",
       "      <td>NaN</td>\n",
       "      <td>NaN</td>\n",
       "      <td>NaN</td>\n",
       "      <td>NaN</td>\n",
       "      <td>NaN</td>\n",
       "      <td>NaN</td>\n",
       "      <td>0</td>\n",
       "    </tr>\n",
       "    <tr>\n",
       "      <th>3</th>\n",
       "      <td>00:00.0</td>\n",
       "      <td>-0.936540</td>\n",
       "      <td>-0.005808</td>\n",
       "      <td>0.267652</td>\n",
       "      <td>-15.494</td>\n",
       "      <td>-2.623</td>\n",
       "      <td>4.575</td>\n",
       "      <td>0.057617</td>\n",
       "      <td>0.100299</td>\n",
       "      <td>-0.916248</td>\n",
       "      <td>...</td>\n",
       "      <td>NaN</td>\n",
       "      <td>NaN</td>\n",
       "      <td>NaN</td>\n",
       "      <td>NaN</td>\n",
       "      <td>NaN</td>\n",
       "      <td>NaN</td>\n",
       "      <td>NaN</td>\n",
       "      <td>NaN</td>\n",
       "      <td>NaN</td>\n",
       "      <td>0</td>\n",
       "    </tr>\n",
       "    <tr>\n",
       "      <th>4</th>\n",
       "      <td>00:00.0</td>\n",
       "      <td>-0.943800</td>\n",
       "      <td>-0.007744</td>\n",
       "      <td>0.264748</td>\n",
       "      <td>-14.823</td>\n",
       "      <td>-2.013</td>\n",
       "      <td>2.928</td>\n",
       "      <td>0.030273</td>\n",
       "      <td>0.100887</td>\n",
       "      <td>-0.917892</td>\n",
       "      <td>...</td>\n",
       "      <td>NaN</td>\n",
       "      <td>NaN</td>\n",
       "      <td>NaN</td>\n",
       "      <td>NaN</td>\n",
       "      <td>NaN</td>\n",
       "      <td>NaN</td>\n",
       "      <td>NaN</td>\n",
       "      <td>NaN</td>\n",
       "      <td>NaN</td>\n",
       "      <td>0</td>\n",
       "    </tr>\n",
       "  </tbody>\n",
       "</table>\n",
       "<p>5 rows × 27 columns</p>\n",
       "</div>"
      ],
      "text/plain": [
       "  TimeStamp  Acceleration.forward  Acceleration.side  Acceleration.up  \\\n",
       "0   00:00.0             -0.922020          -0.008228         0.257004   \n",
       "1   00:00.0             -0.927828          -0.007260         0.260876   \n",
       "2   00:00.0             -0.929280          -0.009680         0.265232   \n",
       "3   00:00.0             -0.936540          -0.005808         0.267652   \n",
       "4   00:00.0             -0.943800          -0.007744         0.264748   \n",
       "\n",
       "   Rotation.roll  Rotation.pitch  Rotation.yaw  RawPlayerLoad  \\\n",
       "0        -12.688          -4.941         4.270       0.506348   \n",
       "1        -14.335          -5.063         4.758       0.241211   \n",
       "2        -15.372          -3.782         4.941       0.115234   \n",
       "3        -15.494          -2.623         4.575       0.057617   \n",
       "4        -14.823          -2.013         2.928       0.030273   \n",
       "\n",
       "   SmoothedPlayerLoad  imuAcceleration.forward  ...  Longitude  Odometer  \\\n",
       "0            0.097728                -0.917566  ...        NaN       NaN   \n",
       "1            0.098716                -0.918521  ...        NaN       NaN   \n",
       "2            0.099575                -0.914655  ...        NaN       NaN   \n",
       "3            0.100299                -0.916248  ...        NaN       NaN   \n",
       "4            0.100887                -0.917892  ...        NaN       NaN   \n",
       "\n",
       "   RawVelocity  SmoothedVelocity  GNSS.LPS.Acceleration  MetabolicPower  \\\n",
       "0          NaN               NaN                    NaN             NaN   \n",
       "1          NaN               NaN                    NaN             NaN   \n",
       "2          NaN               NaN                    NaN             NaN   \n",
       "3          NaN               NaN                    NaN             NaN   \n",
       "4          NaN               NaN                    NaN             NaN   \n",
       "\n",
       "   GNSS.Fix  GNSS.Strength  GNSS.HDOP  HeartRate  \n",
       "0       NaN            NaN        NaN          0  \n",
       "1       NaN            NaN        NaN          0  \n",
       "2       NaN            NaN        NaN          0  \n",
       "3       NaN            NaN        NaN          0  \n",
       "4       NaN            NaN        NaN          0  \n",
       "\n",
       "[5 rows x 27 columns]"
      ]
     },
     "execution_count": 32,
     "metadata": {},
     "output_type": "execute_result"
    }
   ],
   "source": [
    "# view 100hz swing detection data\n",
    "swing_detection_100hz.head()"
   ]
  },
  {
   "cell_type": "markdown",
   "metadata": {},
   "source": [
    "### Exploratory Data Analysis (EDA)\n",
    "\n",
    "Since the first half of the session was spent swinging forehands, while the second half of the session was spent swining backhands, there should be identifiable trends and differences between the first and second half of the data. In addition, to add variability within the dataset, there were a variety of forehands taken, including inside-out forehands, approach shots, lobs, slices, and topspin forehands. \n",
    "\n",
    "After discussing among ourselves, our hypothesis was that there would be visible trends in the 100hz dataset. Specifically, we were interested in the yaw rotation (rotation around the z-axis), and the acceleration upward, since swings generally move from low to high. "
   ]
  },
  {
   "cell_type": "code",
   "execution_count": 33,
   "metadata": {},
   "outputs": [
    {
     "data": {
      "text/plain": [
       "122652"
      ]
     },
     "execution_count": 33,
     "metadata": {},
     "output_type": "execute_result"
    }
   ],
   "source": [
    "# get size of 100hz dataset\n",
    "swing_detection_100hz_mod = swing_detection_100hz.iloc[::10, :]\n",
    "swing_100hz_number = len(swing_detection_100hz.index)\n",
    "swing_100hz_number"
   ]
  },
  {
   "cell_type": "code",
   "execution_count": 36,
   "metadata": {},
   "outputs": [
    {
     "data": {
      "text/plain": [
       "<matplotlib.axes._subplots.AxesSubplot at 0x7f93529a0f90>"
      ]
     },
     "execution_count": 36,
     "metadata": {},
     "output_type": "execute_result"
    },
    {
     "data": {
      "image/png": "[encoded data removed]",
      "text/plain": [
       "<Figure size 432x288 with 1 Axes>"
      ]
     },
     "metadata": {},
     "output_type": "display_data"
    }
   ],
   "source": [
    "# generate time series plot for forehand \n",
    "sns.lineplot(x='TimeStamp', y='Rotation.yaw', data=swing_detection_100hz_mod[3000:3200])"
   ]
  },
  {
   "cell_type": "markdown",
   "metadata": {},
   "source": [
    "### Scratch Work"
   ]
  },
  {
   "cell_type": "code",
   "execution_count": 75,
   "metadata": {},
   "outputs": [
    {
     "data": {
      "text/html": [
       "<div>\n",
       "<style scoped>\n",
       "    .dataframe tbody tr th:only-of-type {\n",
       "        vertical-align: middle;\n",
       "    }\n",
       "\n",
       "    .dataframe tbody tr th {\n",
       "        vertical-align: top;\n",
       "    }\n",
       "\n",
       "    .dataframe thead th {\n",
       "        text-align: right;\n",
       "    }\n",
       "</style>\n",
       "<table border=\"1\" class=\"dataframe\">\n",
       "  <thead>\n",
       "    <tr style=\"text-align: right;\">\n",
       "      <th></th>\n",
       "      <th>TimeStamp</th>\n",
       "      <th>Acceleration.forward</th>\n",
       "      <th>Acceleration.side</th>\n",
       "      <th>Acceleration.up</th>\n",
       "      <th>Rotation.roll</th>\n",
       "      <th>Rotation.pitch</th>\n",
       "      <th>Rotation.yaw</th>\n",
       "      <th>RawPlayerLoad</th>\n",
       "      <th>SmoothedPlayerLoad</th>\n",
       "      <th>imuAcceleration.forward</th>\n",
       "      <th>...</th>\n",
       "      <th>Longitude</th>\n",
       "      <th>Odometer</th>\n",
       "      <th>RawVelocity</th>\n",
       "      <th>SmoothedVelocity</th>\n",
       "      <th>GNSS.LPS.Acceleration</th>\n",
       "      <th>MetabolicPower</th>\n",
       "      <th>GNSS.Fix</th>\n",
       "      <th>GNSS.Strength</th>\n",
       "      <th>GNSS.HDOP</th>\n",
       "      <th>HeartRate</th>\n",
       "    </tr>\n",
       "  </thead>\n",
       "  <tbody>\n",
       "    <tr>\n",
       "      <th>0</th>\n",
       "      <td>00:00.0</td>\n",
       "      <td>-0.922020</td>\n",
       "      <td>-0.008228</td>\n",
       "      <td>0.257004</td>\n",
       "      <td>-12.688</td>\n",
       "      <td>-4.941</td>\n",
       "      <td>4.270</td>\n",
       "      <td>0.506348</td>\n",
       "      <td>0.097728</td>\n",
       "      <td>-0.917566</td>\n",
       "      <td>...</td>\n",
       "      <td>NaN</td>\n",
       "      <td>NaN</td>\n",
       "      <td>NaN</td>\n",
       "      <td>NaN</td>\n",
       "      <td>NaN</td>\n",
       "      <td>NaN</td>\n",
       "      <td>NaN</td>\n",
       "      <td>NaN</td>\n",
       "      <td>NaN</td>\n",
       "      <td>0</td>\n",
       "    </tr>\n",
       "    <tr>\n",
       "      <th>100</th>\n",
       "      <td>00:01.0</td>\n",
       "      <td>-0.957836</td>\n",
       "      <td>0.099704</td>\n",
       "      <td>0.188276</td>\n",
       "      <td>-24.644</td>\n",
       "      <td>13.054</td>\n",
       "      <td>-5.246</td>\n",
       "      <td>0.008789</td>\n",
       "      <td>0.099683</td>\n",
       "      <td>-0.177926</td>\n",
       "      <td>...</td>\n",
       "      <td>NaN</td>\n",
       "      <td>NaN</td>\n",
       "      <td>NaN</td>\n",
       "      <td>NaN</td>\n",
       "      <td>NaN</td>\n",
       "      <td>NaN</td>\n",
       "      <td>NaN</td>\n",
       "      <td>NaN</td>\n",
       "      <td>NaN</td>\n",
       "      <td>0</td>\n",
       "    </tr>\n",
       "    <tr>\n",
       "      <th>200</th>\n",
       "      <td>00:02.0</td>\n",
       "      <td>-0.968484</td>\n",
       "      <td>0.086152</td>\n",
       "      <td>0.743908</td>\n",
       "      <td>-57.462</td>\n",
       "      <td>-116.388</td>\n",
       "      <td>-48.678</td>\n",
       "      <td>0.019531</td>\n",
       "      <td>0.297282</td>\n",
       "      <td>-0.242520</td>\n",
       "      <td>...</td>\n",
       "      <td>NaN</td>\n",
       "      <td>NaN</td>\n",
       "      <td>NaN</td>\n",
       "      <td>NaN</td>\n",
       "      <td>NaN</td>\n",
       "      <td>NaN</td>\n",
       "      <td>NaN</td>\n",
       "      <td>NaN</td>\n",
       "      <td>NaN</td>\n",
       "      <td>0</td>\n",
       "    </tr>\n",
       "    <tr>\n",
       "      <th>300</th>\n",
       "      <td>00:03.0</td>\n",
       "      <td>0.156816</td>\n",
       "      <td>-0.762784</td>\n",
       "      <td>0.790856</td>\n",
       "      <td>247.904</td>\n",
       "      <td>197.518</td>\n",
       "      <td>-103.822</td>\n",
       "      <td>0.049316</td>\n",
       "      <td>0.327458</td>\n",
       "      <td>0.142195</td>\n",
       "      <td>...</td>\n",
       "      <td>NaN</td>\n",
       "      <td>NaN</td>\n",
       "      <td>NaN</td>\n",
       "      <td>NaN</td>\n",
       "      <td>NaN</td>\n",
       "      <td>NaN</td>\n",
       "      <td>NaN</td>\n",
       "      <td>NaN</td>\n",
       "      <td>NaN</td>\n",
       "      <td>0</td>\n",
       "    </tr>\n",
       "    <tr>\n",
       "      <th>400</th>\n",
       "      <td>00:04.0</td>\n",
       "      <td>-0.445764</td>\n",
       "      <td>0.229900</td>\n",
       "      <td>0.600644</td>\n",
       "      <td>-43.676</td>\n",
       "      <td>-54.961</td>\n",
       "      <td>-31.903</td>\n",
       "      <td>0.027832</td>\n",
       "      <td>0.206247</td>\n",
       "      <td>0.038869</td>\n",
       "      <td>...</td>\n",
       "      <td>NaN</td>\n",
       "      <td>NaN</td>\n",
       "      <td>NaN</td>\n",
       "      <td>NaN</td>\n",
       "      <td>NaN</td>\n",
       "      <td>NaN</td>\n",
       "      <td>NaN</td>\n",
       "      <td>NaN</td>\n",
       "      <td>NaN</td>\n",
       "      <td>0</td>\n",
       "    </tr>\n",
       "    <tr>\n",
       "      <th>...</th>\n",
       "      <td>...</td>\n",
       "      <td>...</td>\n",
       "      <td>...</td>\n",
       "      <td>...</td>\n",
       "      <td>...</td>\n",
       "      <td>...</td>\n",
       "      <td>...</td>\n",
       "      <td>...</td>\n",
       "      <td>...</td>\n",
       "      <td>...</td>\n",
       "      <td>...</td>\n",
       "      <td>...</td>\n",
       "      <td>...</td>\n",
       "      <td>...</td>\n",
       "      <td>...</td>\n",
       "      <td>...</td>\n",
       "      <td>...</td>\n",
       "      <td>...</td>\n",
       "      <td>...</td>\n",
       "      <td>...</td>\n",
       "      <td>...</td>\n",
       "    </tr>\n",
       "    <tr>\n",
       "      <th>122200</th>\n",
       "      <td>20:22.0</td>\n",
       "      <td>-0.947188</td>\n",
       "      <td>-0.253616</td>\n",
       "      <td>0.196504</td>\n",
       "      <td>0.305</td>\n",
       "      <td>4.270</td>\n",
       "      <td>8.174</td>\n",
       "      <td>0.013672</td>\n",
       "      <td>0.119483</td>\n",
       "      <td>0.024589</td>\n",
       "      <td>...</td>\n",
       "      <td>NaN</td>\n",
       "      <td>NaN</td>\n",
       "      <td>NaN</td>\n",
       "      <td>NaN</td>\n",
       "      <td>NaN</td>\n",
       "      <td>NaN</td>\n",
       "      <td>NaN</td>\n",
       "      <td>NaN</td>\n",
       "      <td>NaN</td>\n",
       "      <td>0</td>\n",
       "    </tr>\n",
       "    <tr>\n",
       "      <th>122300</th>\n",
       "      <td>20:23.0</td>\n",
       "      <td>-0.944284</td>\n",
       "      <td>-0.174724</td>\n",
       "      <td>0.108900</td>\n",
       "      <td>14.579</td>\n",
       "      <td>0.915</td>\n",
       "      <td>-24.888</td>\n",
       "      <td>0.018555</td>\n",
       "      <td>0.083474</td>\n",
       "      <td>-0.067978</td>\n",
       "      <td>...</td>\n",
       "      <td>NaN</td>\n",
       "      <td>NaN</td>\n",
       "      <td>NaN</td>\n",
       "      <td>NaN</td>\n",
       "      <td>NaN</td>\n",
       "      <td>NaN</td>\n",
       "      <td>NaN</td>\n",
       "      <td>NaN</td>\n",
       "      <td>NaN</td>\n",
       "      <td>0</td>\n",
       "    </tr>\n",
       "    <tr>\n",
       "      <th>122400</th>\n",
       "      <td>20:24.0</td>\n",
       "      <td>-0.948156</td>\n",
       "      <td>-0.259908</td>\n",
       "      <td>0.203280</td>\n",
       "      <td>-5.490</td>\n",
       "      <td>-8.662</td>\n",
       "      <td>9.760</td>\n",
       "      <td>0.026367</td>\n",
       "      <td>0.156433</td>\n",
       "      <td>0.004330</td>\n",
       "      <td>...</td>\n",
       "      <td>NaN</td>\n",
       "      <td>NaN</td>\n",
       "      <td>NaN</td>\n",
       "      <td>NaN</td>\n",
       "      <td>NaN</td>\n",
       "      <td>NaN</td>\n",
       "      <td>NaN</td>\n",
       "      <td>NaN</td>\n",
       "      <td>NaN</td>\n",
       "      <td>0</td>\n",
       "    </tr>\n",
       "    <tr>\n",
       "      <th>122500</th>\n",
       "      <td>20:25.0</td>\n",
       "      <td>-0.985424</td>\n",
       "      <td>-0.339284</td>\n",
       "      <td>0.054208</td>\n",
       "      <td>-4.270</td>\n",
       "      <td>-9.089</td>\n",
       "      <td>-41.907</td>\n",
       "      <td>0.026367</td>\n",
       "      <td>0.177984</td>\n",
       "      <td>0.038632</td>\n",
       "      <td>...</td>\n",
       "      <td>NaN</td>\n",
       "      <td>NaN</td>\n",
       "      <td>NaN</td>\n",
       "      <td>NaN</td>\n",
       "      <td>NaN</td>\n",
       "      <td>NaN</td>\n",
       "      <td>NaN</td>\n",
       "      <td>NaN</td>\n",
       "      <td>NaN</td>\n",
       "      <td>0</td>\n",
       "    </tr>\n",
       "    <tr>\n",
       "      <th>122600</th>\n",
       "      <td>20:26.0</td>\n",
       "      <td>-0.992200</td>\n",
       "      <td>-0.404624</td>\n",
       "      <td>0.245872</td>\n",
       "      <td>-4.758</td>\n",
       "      <td>9.455</td>\n",
       "      <td>-4.270</td>\n",
       "      <td>0.068848</td>\n",
       "      <td>0.096851</td>\n",
       "      <td>-0.011170</td>\n",
       "      <td>...</td>\n",
       "      <td>NaN</td>\n",
       "      <td>NaN</td>\n",
       "      <td>NaN</td>\n",
       "      <td>NaN</td>\n",
       "      <td>NaN</td>\n",
       "      <td>NaN</td>\n",
       "      <td>NaN</td>\n",
       "      <td>NaN</td>\n",
       "      <td>NaN</td>\n",
       "      <td>0</td>\n",
       "    </tr>\n",
       "  </tbody>\n",
       "</table>\n",
       "<p>1227 rows × 27 columns</p>\n",
       "</div>"
      ],
      "text/plain": [
       "       TimeStamp  Acceleration.forward  Acceleration.side  Acceleration.up  \\\n",
       "0        00:00.0             -0.922020          -0.008228         0.257004   \n",
       "100      00:01.0             -0.957836           0.099704         0.188276   \n",
       "200      00:02.0             -0.968484           0.086152         0.743908   \n",
       "300      00:03.0              0.156816          -0.762784         0.790856   \n",
       "400      00:04.0             -0.445764           0.229900         0.600644   \n",
       "...          ...                   ...                ...              ...   \n",
       "122200   20:22.0             -0.947188          -0.253616         0.196504   \n",
       "122300   20:23.0             -0.944284          -0.174724         0.108900   \n",
       "122400   20:24.0             -0.948156          -0.259908         0.203280   \n",
       "122500   20:25.0             -0.985424          -0.339284         0.054208   \n",
       "122600   20:26.0             -0.992200          -0.404624         0.245872   \n",
       "\n",
       "        Rotation.roll  Rotation.pitch  Rotation.yaw  RawPlayerLoad  \\\n",
       "0             -12.688          -4.941         4.270       0.506348   \n",
       "100           -24.644          13.054        -5.246       0.008789   \n",
       "200           -57.462        -116.388       -48.678       0.019531   \n",
       "300           247.904         197.518      -103.822       0.049316   \n",
       "400           -43.676         -54.961       -31.903       0.027832   \n",
       "...               ...             ...           ...            ...   \n",
       "122200          0.305           4.270         8.174       0.013672   \n",
       "122300         14.579           0.915       -24.888       0.018555   \n",
       "122400         -5.490          -8.662         9.760       0.026367   \n",
       "122500         -4.270          -9.089       -41.907       0.026367   \n",
       "122600         -4.758           9.455        -4.270       0.068848   \n",
       "\n",
       "        SmoothedPlayerLoad  imuAcceleration.forward  ...  Longitude  Odometer  \\\n",
       "0                 0.097728                -0.917566  ...        NaN       NaN   \n",
       "100               0.099683                -0.177926  ...        NaN       NaN   \n",
       "200               0.297282                -0.242520  ...        NaN       NaN   \n",
       "300               0.327458                 0.142195  ...        NaN       NaN   \n",
       "400               0.206247                 0.038869  ...        NaN       NaN   \n",
       "...                    ...                      ...  ...        ...       ...   \n",
       "122200            0.119483                 0.024589  ...        NaN       NaN   \n",
       "122300            0.083474                -0.067978  ...        NaN       NaN   \n",
       "122400            0.156433                 0.004330  ...        NaN       NaN   \n",
       "122500            0.177984                 0.038632  ...        NaN       NaN   \n",
       "122600            0.096851                -0.011170  ...        NaN       NaN   \n",
       "\n",
       "        RawVelocity  SmoothedVelocity  GNSS.LPS.Acceleration  MetabolicPower  \\\n",
       "0               NaN               NaN                    NaN             NaN   \n",
       "100             NaN               NaN                    NaN             NaN   \n",
       "200             NaN               NaN                    NaN             NaN   \n",
       "300             NaN               NaN                    NaN             NaN   \n",
       "400             NaN               NaN                    NaN             NaN   \n",
       "...             ...               ...                    ...             ...   \n",
       "122200          NaN               NaN                    NaN             NaN   \n",
       "122300          NaN               NaN                    NaN             NaN   \n",
       "122400          NaN               NaN                    NaN             NaN   \n",
       "122500          NaN               NaN                    NaN             NaN   \n",
       "122600          NaN               NaN                    NaN             NaN   \n",
       "\n",
       "        GNSS.Fix  GNSS.Strength  GNSS.HDOP  HeartRate  \n",
       "0            NaN            NaN        NaN          0  \n",
       "100          NaN            NaN        NaN          0  \n",
       "200          NaN            NaN        NaN          0  \n",
       "300          NaN            NaN        NaN          0  \n",
       "400          NaN            NaN        NaN          0  \n",
       "...          ...            ...        ...        ...  \n",
       "122200       NaN            NaN        NaN          0  \n",
       "122300       NaN            NaN        NaN          0  \n",
       "122400       NaN            NaN        NaN          0  \n",
       "122500       NaN            NaN        NaN          0  \n",
       "122600       NaN            NaN        NaN          0  \n",
       "\n",
       "[1227 rows x 27 columns]"
      ]
     },
     "execution_count": 75,
     "metadata": {},
     "output_type": "execute_result"
    }
   ],
   "source": [
    "hertz_mod = 100\n",
    "swing_detection_100hz_mod = swing_detection_100hz.iloc[::hertz_mod, :]\n",
    "swing_detection_100hz_mod"
   ]
  },
  {
   "cell_type": "markdown",
   "metadata": {},
   "source": [
    "There are three types of rotation presented in the 100hz dataset for swings. Yaw rotation represents rotation around the z-axis, which is what will be particularly applicable to performing a K-means clustering for this dataset"
   ]
  },
  {
   "cell_type": "markdown",
   "metadata": {},
   "source": [
    "## Generate Exploratory Data Plots for K Means"
   ]
  },
  {
   "cell_type": "code",
   "execution_count": 76,
   "metadata": {},
   "outputs": [
    {
     "data": {
      "text/plain": [
       "0          4.270\n",
       "1          4.758\n",
       "2          4.941\n",
       "3          4.575\n",
       "4          2.928\n",
       "           ...  \n",
       "122647    22.631\n",
       "122648    18.178\n",
       "122649    22.753\n",
       "122650    27.877\n",
       "122651    62.586\n",
       "Name: Rotation.yaw, Length: 122652, dtype: float64"
      ]
     },
     "execution_count": 76,
     "metadata": {},
     "output_type": "execute_result"
    }
   ],
   "source": [
    "# isolate yaw rotation data\n",
    "yaw_rotation = swing_detection_100hz['Rotation.yaw']\n",
    "yaw_rotation"
   ]
  },
  {
   "cell_type": "code",
   "execution_count": 77,
   "metadata": {},
   "outputs": [
    {
     "data": {
      "text/plain": [
       "[<matplotlib.lines.Line2D at 0x13e511da0>]"
      ]
     },
     "execution_count": 77,
     "metadata": {},
     "output_type": "execute_result"
    },
    {
     "data": {
      "image/png": "[encoded data removed]",
      "text/plain": [
       "<Figure size 432x288 with 1 Axes>"
      ]
     },
     "metadata": {
      "needs_background": "light"
     },
     "output_type": "display_data"
    }
   ],
   "source": [
    "# plot yaw rotation data\n",
    "plt.plot(yaw_rotation)"
   ]
  },
  {
   "cell_type": "code",
   "execution_count": 78,
   "metadata": {},
   "outputs": [
    {
     "data": {
      "text/plain": [
       "0        -0.008228\n",
       "1        -0.007260\n",
       "2        -0.009680\n",
       "3        -0.005808\n",
       "4        -0.007744\n",
       "            ...   \n",
       "122647   -0.253616\n",
       "122648   -0.200376\n",
       "122649   -0.195536\n",
       "122650   -0.222640\n",
       "122651   -0.275396\n",
       "Name: Acceleration.side, Length: 122652, dtype: float64"
      ]
     },
     "execution_count": 78,
     "metadata": {},
     "output_type": "execute_result"
    }
   ],
   "source": [
    "# isolate side acceleration data\n",
    "side_accel = swing_detection_100hz['Acceleration.side']\n",
    "side_accel"
   ]
  },
  {
   "cell_type": "code",
   "execution_count": 79,
   "metadata": {},
   "outputs": [
    {
     "data": {
      "text/plain": [
       "[<matplotlib.lines.Line2D at 0x125ddd278>]"
      ]
     },
     "execution_count": 79,
     "metadata": {},
     "output_type": "execute_result"
    },
    {
     "data": {
      "image/png": "[encoded data removed]",
      "text/plain": [
       "<Figure size 432x288 with 1 Axes>"
      ]
     },
     "metadata": {
      "needs_background": "light"
     },
     "output_type": "display_data"
    }
   ],
   "source": [
    "# plot sideways acceleration\n",
    "plt.plot(side_accel)"
   ]
  },
  {
   "cell_type": "code",
   "execution_count": 80,
   "metadata": {},
   "outputs": [
    {
     "data": {
      "text/plain": [
       "0         0.506348\n",
       "1         0.241211\n",
       "2         0.115234\n",
       "3         0.057617\n",
       "4         0.030273\n",
       "            ...   \n",
       "122647    0.026856\n",
       "122648    0.018066\n",
       "122649    0.020019\n",
       "122650    0.015625\n",
       "122651    0.257324\n",
       "Name: RawPlayerLoad, Length: 122652, dtype: float64"
      ]
     },
     "execution_count": 80,
     "metadata": {},
     "output_type": "execute_result"
    }
   ],
   "source": [
    "# isolate player load\n",
    "player_load = swing_detection_100hz['RawPlayerLoad']\n",
    "player_load"
   ]
  },
  {
   "cell_type": "code",
   "execution_count": 81,
   "metadata": {},
   "outputs": [
    {
     "data": {
      "text/plain": [
       "[<matplotlib.lines.Line2D at 0x132577828>]"
      ]
     },
     "execution_count": 81,
     "metadata": {},
     "output_type": "execute_result"
    },
    {
     "data": {
      "image/png": "[encoded data removed]",
      "text/plain": [
       "<Figure size 432x288 with 1 Axes>"
      ]
     },
     "metadata": {
      "needs_background": "light"
     },
     "output_type": "display_data"
    }
   ],
   "source": [
    "# plot player load\n",
    "plt.plot(player_load)"
   ]
  },
  {
   "cell_type": "markdown",
   "metadata": {},
   "source": [
    "## Create K Means Analysis"
   ]
  },
  {
   "cell_type": "code",
   "execution_count": 97,
   "metadata": {},
   "outputs": [],
   "source": [
    "# create K Means object\n",
    "kmeans = KMeans(n_clusters = 2)"
   ]
  },
  {
   "cell_type": "code",
   "execution_count": 98,
   "metadata": {},
   "outputs": [],
   "source": [
    "# create 2D array for K Means\n",
    "kmeans_data = []\n",
    "\n",
    "for i in range(len(yaw_rotation)):\n",
    "    kmeans_data.append([yaw_rotation[i], side_accel[i]])"
   ]
  },
  {
   "cell_type": "code",
   "execution_count": 99,
   "metadata": {},
   "outputs": [
    {
     "data": {
      "text/plain": [
       "KMeans(n_clusters=2)"
      ]
     },
     "execution_count": 99,
     "metadata": {},
     "output_type": "execute_result"
    }
   ],
   "source": [
    "kmeans.fit(kmeans_data)"
   ]
  },
  {
   "cell_type": "code",
   "execution_count": 100,
   "metadata": {},
   "outputs": [],
   "source": [
    "centroids = kmeans.cluster_centers_"
   ]
  },
  {
   "cell_type": "code",
   "execution_count": 101,
   "metadata": {},
   "outputs": [
    {
     "data": {
      "text/plain": [
       "<matplotlib.collections.PathCollection at 0x13ff07828>"
      ]
     },
     "execution_count": 101,
     "metadata": {},
     "output_type": "execute_result"
    },
    {
     "data": {
      "image/png": "[encoded data removed]",
      "text/plain": [
       "<Figure size 432x288 with 1 Axes>"
      ]
     },
     "metadata": {
      "needs_background": "light"
     },
     "output_type": "display_data"
    }
   ],
   "source": [
    "plt.scatter(yaw_rotation, side_accel)\n",
    "plt.scatter(centroids[:, 0], centroids[:, 1])"
   ]
  },
  {
   "cell_type": "code",
   "execution_count": null,
   "metadata": {},
   "outputs": [],
   "source": []
  }
 ],
 "metadata": {
  "kernelspec": {
   "display_name": "Python 3",
   "language": "python",
   "name": "python3"
  },
  "language_info": {
   "codemirror_mode": {
    "name": "ipython",
    "version": 3
   },
   "file_extension": ".py",
   "mimetype": "text/x-python",
   "name": "python",
   "nbconvert_exporter": "python",
   "pygments_lexer": "ipython3",
   "version": "3.7.6"
  }
 },
 "nbformat": 4,
 "nbformat_minor": 4
}
